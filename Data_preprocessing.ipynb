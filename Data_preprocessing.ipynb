{
  "nbformat": 4,
  "nbformat_minor": 0,
  "metadata": {
    "colab": {
      "name": "Data_preprocessing.ipynb",
      "version": "0.3.2",
      "provenance": [],
      "collapsed_sections": [],
      "include_colab_link": true
    },
    "kernelspec": {
      "name": "python3",
      "display_name": "Python 3"
    },
    "accelerator": "TPU"
  },
  "cells": [
    {
      "cell_type": "markdown",
      "metadata": {
        "id": "view-in-github",
        "colab_type": "text"
      },
      "source": [
        "<a href=\"https://colab.research.google.com/github/Juhi-Purswani/Offline_Signature_Verification/blob/master/Data_preprocessing.ipynb\" target=\"_parent\"><img src=\"https://colab.research.google.com/assets/colab-badge.svg\" alt=\"Open In Colab\"/></a>"
      ]
    },
    {
      "cell_type": "code",
      "metadata": {
        "id": "DTymw8FeOKg1",
        "colab_type": "code",
        "colab": {}
      },
      "source": [
        "from google.colab import drive\n",
        "drive.mount('/content/drive')"
      ],
      "execution_count": 0,
      "outputs": []
    },
    {
      "cell_type": "code",
      "metadata": {
        "id": "E-ekDCCHOlGU",
        "colab_type": "code",
        "colab": {}
      },
      "source": [
        "!ls"
      ],
      "execution_count": 0,
      "outputs": []
    },
    {
      "cell_type": "code",
      "metadata": {
        "id": "416AG3E2O3LL",
        "colab_type": "code",
        "colab": {}
      },
      "source": [
        "import os\n",
        "os.chdir('./drive/My Drive/Signature_Forgery')"
      ],
      "execution_count": 0,
      "outputs": []
    },
    {
      "cell_type": "code",
      "metadata": {
        "id": "eIeg1gjcO6sa",
        "colab_type": "code",
        "colab": {}
      },
      "source": [
        "import cv2                 \n",
        "import numpy as np         \n",
        "import os                  \n",
        "from random import shuffle \n",
        "from tqdm import tqdm \n",
        "import numpy as np\n",
        "\n"
      ],
      "execution_count": 0,
      "outputs": []
    },
    {
      "cell_type": "code",
      "metadata": {
        "id": "AtdxBEAnO9AQ",
        "colab_type": "code",
        "outputId": "2164cfd6-04ec-4012-fee1-0c078a4b3bb1",
        "colab": {
          "base_uri": "https://localhost:8080/",
          "height": 109
        }
      },
      "source": [
        "img = cv2.imread('data/test_set/NFI-00104014.png')\n",
        "\n",
        "dst = cv2.fastNlMeansDenoisingColored(img,None,6,6,7,21)\n",
        "\n",
        "plt.subplot(121),plt.imshow(img)\n",
        "plt.subplot(122),plt.imshow(dst)\n",
        "plt.show()"
      ],
      "execution_count": 0,
      "outputs": [
        {
          "output_type": "display_data",
          "data": {
            "image/png": "[encoded data removed]",
            "text/plain": [
              "<Figure size 432x288 with 2 Axes>"
            ]
          },
          "metadata": {
            "tags": []
          }
        }
      ]
    },
    {
      "cell_type": "code",
      "metadata": {
        "id": "tteKRisfPjRn",
        "colab_type": "code",
        "outputId": "98ce6014-fe70-4926-9a79-f8f8f7436807",
        "colab": {
          "base_uri": "https://localhost:8080/",
          "height": 34
        }
      },
      "source": [
        "cv2.imwrite('data2/messigray.png',dst)\n"
      ],
      "execution_count": 0,
      "outputs": [
        {
          "output_type": "execute_result",
          "data": {
            "text/plain": [
              "True"
            ]
          },
          "metadata": {
            "tags": []
          },
          "execution_count": 16
        }
      ]
    },
    {
      "cell_type": "code",
      "metadata": {
        "id": "8KHOSTcMQXsH",
        "colab_type": "code",
        "colab": {}
      },
      "source": [
        "def denosing_image(DIR):\n",
        "  directory = 'data/' + DIR\n",
        "  for name in tqdm(os.listdir(directory)):\n",
        "    path = os.path.join(directory,name)\n",
        "    img  = cv2.imread(path)\n",
        "    dst = cv2.fastNlMeansDenoisingColored(img,None,6,6,7,21)\n",
        "    cv2.imwrite('data/'+DIR + '_denoised/' + name,dst)"
      ],
      "execution_count": 0,
      "outputs": []
    },
    {
      "cell_type": "code",
      "metadata": {
        "id": "NEI64l55Thsq",
        "colab_type": "code",
        "outputId": "3cc21f3f-b8f2-4a1c-8875-883881365464",
        "colab": {
          "base_uri": "https://localhost:8080/",
          "height": 34
        }
      },
      "source": [
        "TEST_DIR = 'test_set'\n",
        "denosing_image(TEST_DIR)"
      ],
      "execution_count": 0,
      "outputs": [
        {
          "output_type": "stream",
          "text": [
            "100%|██████████| 121/121 [07:36<00:00,  3.31s/it]\n"
          ],
          "name": "stderr"
        }
      ]
    },
    {
      "cell_type": "code",
      "metadata": {
        "id": "2EZK0EUFUXKC",
        "colab_type": "code",
        "outputId": "839cce39-fa9f-4a2b-94ea-7e697ec58853",
        "colab": {
          "base_uri": "https://localhost:8080/",
          "height": 34
        }
      },
      "source": [
        "TRAIN_DIR = 'train_set'\n",
        "denosing_image(TRAIN_DIR)"
      ],
      "execution_count": 0,
      "outputs": [
        {
          "output_type": "stream",
          "text": [
            "100%|██████████| 179/179 [11:04<00:00,  3.36s/it]\n"
          ],
          "name": "stderr"
        }
      ]
    },
    {
      "cell_type": "code",
      "metadata": {
        "id": "IElAicbwXfMJ",
        "colab_type": "code",
        "colab": {}
      },
      "source": [
        ""
      ],
      "execution_count": 0,
      "outputs": []
    }
  ]
}