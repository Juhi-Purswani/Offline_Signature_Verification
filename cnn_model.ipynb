{
  "nbformat": 4,
  "nbformat_minor": 0,
  "metadata": {
    "colab": {
      "name": "cnn_model.ipynb",
      "version": "0.3.2",
      "provenance": [],
      "collapsed_sections": [],
      "include_colab_link": true
    },
    "kernelspec": {
      "name": "python3",
      "display_name": "Python 3"
    }
  },
  "cells": [
    {
      "cell_type": "markdown",
      "metadata": {
        "id": "view-in-github",
        "colab_type": "text"
      },
      "source": [
        "<a href=\"https://colab.research.google.com/github/Juhi-Purswani/Offline_Signature_Verification/blob/master/cnn_model.ipynb\" target=\"_parent\"><img src=\"https://colab.research.google.com/assets/colab-badge.svg\" alt=\"Open In Colab\"/></a>"
      ]
    },
    {
      "cell_type": "code",
      "metadata": {
        "id": "gEGCQv18aC0o",
        "colab_type": "code",
        "colab": {
          "base_uri": "https://localhost:8080/",
          "height": 125
        },
        "outputId": "265dc262-0366-4b98-9e83-1cba5d9fc867"
      },
      "source": [
        "from google.colab import drive\n",
        "drive.mount('/content/drive')"
      ],
      "execution_count": 1,
      "outputs": [
        {
          "output_type": "stream",
          "text": [
            "Go to this URL in a browser: https://accounts.google.com/o/oauth2/auth?client_id=947318989803-6bn6qk8qdgf4n4g3pfee6491hc0brc4i.apps.googleusercontent.com&redirect_uri=urn%3Aietf%3Awg%3Aoauth%3A2.0%3Aoob&scope=email%20https%3A%2F%2Fwww.googleapis.com%2Fauth%2Fdocs.test%20https%3A%2F%2Fwww.googleapis.com%2Fauth%2Fdrive%20https%3A%2F%2Fwww.googleapis.com%2Fauth%2Fdrive.photos.readonly%20https%3A%2F%2Fwww.googleapis.com%2Fauth%2Fpeopleapi.readonly&response_type=code\n",
            "\n",
            "Enter your authorization code:\n",
            "··········\n",
            "Mounted at /content/drive\n"
          ],
          "name": "stdout"
        }
      ]
    },
    {
      "cell_type": "code",
      "metadata": {
        "id": "Tg47RpP-kUMY",
        "colab_type": "code",
        "colab": {
          "base_uri": "https://localhost:8080/",
          "height": 34
        },
        "outputId": "6732f1e7-0dd3-4f87-f6d4-43e5f388c4c4"
      },
      "source": [
        " !ls"
      ],
      "execution_count": 2,
      "outputs": [
        {
          "output_type": "stream",
          "text": [
            "drive  sample_data\n"
          ],
          "name": "stdout"
        }
      ]
    },
    {
      "cell_type": "code",
      "metadata": {
        "id": "sku0Czw_kX0h",
        "colab_type": "code",
        "colab": {}
      },
      "source": [
        "import os\n",
        "os.chdir('./drive/My Drive/Signature_Forgery')"
      ],
      "execution_count": 0,
      "outputs": []
    },
    {
      "cell_type": "code",
      "metadata": {
        "id": "jwEcds7dkZlq",
        "colab_type": "code",
        "colab": {
          "base_uri": "https://localhost:8080/",
          "height": 34
        },
        "outputId": "2239ae9d-545b-42d0-f87b-613820db3802"
      },
      "source": [
        "import cv2                 \n",
        "import numpy as np         \n",
        "import os                  \n",
        "from random import shuffle \n",
        "from tqdm import tqdm \n",
        "import numpy as np\n",
        "\n",
        "from keras.utils import to_categorical\n",
        "import matplotlib.pyplot as plt\n",
        "\n",
        "import keras\n",
        "from keras.models import Sequential,Input,Model\n",
        "from keras.layers import Dense, Dropout, Flatten\n",
        "from keras.layers import Conv2D, MaxPooling2D\n",
        "from keras.layers.normalization import BatchNormalization\n",
        "from keras.layers.advanced_activations import LeakyReLU\n",
        "\n",
        "from sklearn.model_selection import train_test_split"
      ],
      "execution_count": 4,
      "outputs": [
        {
          "output_type": "stream",
          "text": [
            "Using TensorFlow backend.\n"
          ],
          "name": "stderr"
        }
      ]
    },
    {
      "cell_type": "code",
      "metadata": {
        "id": "g3pzetHHkbwx",
        "colab_type": "code",
        "colab": {}
      },
      "source": [
        "TRAIN_DIR = 'data/train_set'\n",
        "TEST_DIR = 'data/test_set'\n",
        "IMG_SIZE = 28"
      ],
      "execution_count": 0,
      "outputs": []
    },
    {
      "cell_type": "code",
      "metadata": {
        "id": "hqCnzV3fkeuS",
        "colab_type": "code",
        "colab": {}
      },
      "source": [
        "def label_img(img):\n",
        "    image_label = img.split('.')\n",
        "    name = image_label[0]\n",
        "    # checking if the signature is forged or genuine\n",
        "    #                            \n",
        "    \n",
        "    if name[4:7] == name[-3:]:\n",
        "        return 1\n",
        "  \n",
        "    elif name[4:7] != name[-3:]:\n",
        "        return 0\n",
        "\n",
        "def person_img(img):\n",
        "    label = img.split('.')\n",
        "    k = label[0]\n",
        "    return [k[-3:]]\n",
        "\n",
        "\n",
        "def create_features(DIR):\n",
        "    features = []\n",
        "    labels = []\n",
        "    for img in tqdm(os.listdir(DIR)):\n",
        "        label = label_img(img)\n",
        "        person = person_img(img)\n",
        "       \n",
        "        path = os.path.join(DIR,img)\n",
        "        img = cv2.imread(path,cv2.IMREAD_GRAYSCALE)\n",
        "        img = cv2.resize(img, (IMG_SIZE,IMG_SIZE))\n",
        "        features.append([img])\n",
        "        labels.append(np.array(label))\n",
        "    #shuffle(training_data)\n",
        "    #np.save('train_data.npy', training_data)\n",
        "    return features\n",
        "\n",
        "def create_labels(DIR):\n",
        "    labels = []\n",
        "    for img in tqdm(os.listdir(DIR)):\n",
        "        label = label_img(img)\n",
        "        labels.append(np.array(label))\n",
        "    return labels"
      ],
      "execution_count": 0,
      "outputs": []
    },
    {
      "cell_type": "code",
      "metadata": {
        "id": "Ao3p9tqjkhQt",
        "colab_type": "code",
        "colab": {
          "base_uri": "https://localhost:8080/",
          "height": 87
        },
        "outputId": "947097a0-a1dc-43ab-c807-61d0fae455f8"
      },
      "source": [
        "train_features  = np.array(create_features(TRAIN_DIR))\n",
        "test_features  = np.array(create_features(TEST_DIR))\n",
        "train_features_reshaped = train_features.reshape(-1, IMG_SIZE,IMG_SIZE, 1)\n",
        "test_features_reshaped = test_features.reshape(-1, IMG_SIZE,IMG_SIZE, 1)\n",
        "\n",
        "train_features_reshaped = train_features_reshaped.astype('float32')\n",
        "test_features_reshaped = test_features_reshaped.astype('float32')\n",
        "train_features_reshaped = train_features_reshaped / 255.\n",
        "test_features_reshaped = test_features_reshaped / 255.\n",
        "\n",
        "train_labels = np.array(create_labels(TRAIN_DIR))\n",
        "test_labels = np.array(create_labels(TEST_DIR))\n",
        "\n",
        "\n",
        "train_labels_one_hot = to_categorical(train_labels)\n",
        "test_labels_one_hot = to_categorical(test_labels)"
      ],
      "execution_count": 7,
      "outputs": [
        {
          "output_type": "stream",
          "text": [
            "100%|██████████| 179/179 [00:46<00:00,  3.97it/s]\n",
            "100%|██████████| 121/121 [00:33<00:00,  3.66it/s]\n",
            "100%|██████████| 179/179 [00:00<00:00, 188401.61it/s]\n",
            "100%|██████████| 121/121 [00:00<00:00, 209110.34it/s]\n"
          ],
          "name": "stderr"
        }
      ]
    },
    {
      "cell_type": "code",
      "metadata": {
        "id": "J981579ukkFu",
        "colab_type": "code",
        "colab": {}
      },
      "source": [
        "batch_size = 64\n",
        "epochs = 50\n",
        "num_classes = 2"
      ],
      "execution_count": 0,
      "outputs": []
    },
    {
      "cell_type": "code",
      "metadata": {
        "id": "Y-GWEbdcsxOd",
        "colab_type": "code",
        "colab": {
          "base_uri": "https://localhost:8080/",
          "height": 421
        },
        "outputId": "315724f8-bb55-4f7c-e8c9-12994a8acc9f"
      },
      "source": [
        "model = Sequential()\n",
        "model.add(Conv2D(64,kernel_size=(3,3),activation = 'relu',input_shape=(IMG_SIZE,IMG_SIZE,1),padding='same'))\n",
        "model.add(MaxPooling2D((2,2),padding='same'))\n",
        "model.add(Conv2D(32,kernel_size=(3,3),activation = 'relu',padding='same'))\n",
        "model.add(MaxPooling2D((2,2),padding='same'))\n",
        "model.add(Flatten())\n",
        "model.add(Dense(1000, activation='relu')) \n",
        "model.add(Dense(100, activation='relu'))  \n",
        "model.add(Dense(num_classes, activation='sigmoid'))\n",
        "model.compile(loss=keras.losses.categorical_crossentropy, optimizer=keras.optimizers.Adam(),metrics=['accuracy'])\n",
        "model.summary()"
      ],
      "execution_count": 18,
      "outputs": [
        {
          "output_type": "stream",
          "text": [
            "_________________________________________________________________\n",
            "Layer (type)                 Output Shape              Param #   \n",
            "=================================================================\n",
            "conv2d_7 (Conv2D)            (None, 28, 28, 64)        640       \n",
            "_________________________________________________________________\n",
            "max_pooling2d_7 (MaxPooling2 (None, 14, 14, 64)        0         \n",
            "_________________________________________________________________\n",
            "conv2d_8 (Conv2D)            (None, 14, 14, 32)        18464     \n",
            "_________________________________________________________________\n",
            "max_pooling2d_8 (MaxPooling2 (None, 7, 7, 32)          0         \n",
            "_________________________________________________________________\n",
            "flatten_4 (Flatten)          (None, 1568)              0         \n",
            "_________________________________________________________________\n",
            "dense_10 (Dense)             (None, 1000)              1569000   \n",
            "_________________________________________________________________\n",
            "dense_11 (Dense)             (None, 100)               100100    \n",
            "_________________________________________________________________\n",
            "dense_12 (Dense)             (None, 2)                 202       \n",
            "=================================================================\n",
            "Total params: 1,688,406\n",
            "Trainable params: 1,688,406\n",
            "Non-trainable params: 0\n",
            "_________________________________________________________________\n"
          ],
          "name": "stdout"
        }
      ]
    },
    {
      "cell_type": "code",
      "metadata": {
        "id": "06Hh0-Pjs4WL",
        "colab_type": "code",
        "colab": {
          "base_uri": "https://localhost:8080/",
          "height": 1000
        },
        "outputId": "2d8dc5db-c4b1-4ea9-f3bb-adaa23a01e1d"
      },
      "source": [
        "history = model.fit(train_features_reshaped, train_labels_one_hot, batch_size=batch_size,epochs=epochs,verbose=1,validation_data=(test_features_reshaped, test_labels_one_hot))"
      ],
      "execution_count": 19,
      "outputs": [
        {
          "output_type": "stream",
          "text": [
            "Train on 179 samples, validate on 121 samples\n",
            "Epoch 1/50\n",
            "179/179 [==============================] - 1s 8ms/step - loss: 0.7099 - acc: 0.4581 - val_loss: 0.6970 - val_acc: 0.5041\n",
            "Epoch 2/50\n",
            "179/179 [==============================] - 0s 2ms/step - loss: 0.6984 - acc: 0.4972 - val_loss: 0.6930 - val_acc: 0.5041\n",
            "Epoch 3/50\n",
            "179/179 [==============================] - 0s 3ms/step - loss: 0.6958 - acc: 0.4078 - val_loss: 0.6926 - val_acc: 0.5207\n",
            "Epoch 4/50\n",
            "179/179 [==============================] - 0s 3ms/step - loss: 0.6921 - acc: 0.5419 - val_loss: 0.6927 - val_acc: 0.4959\n",
            "Epoch 5/50\n",
            "179/179 [==============================] - 0s 3ms/step - loss: 0.6971 - acc: 0.4413 - val_loss: 0.6922 - val_acc: 0.5041\n",
            "Epoch 6/50\n",
            "179/179 [==============================] - 0s 3ms/step - loss: 0.6897 - acc: 0.5587 - val_loss: 0.6922 - val_acc: 0.4959\n",
            "Epoch 7/50\n",
            "179/179 [==============================] - 0s 3ms/step - loss: 0.6894 - acc: 0.5251 - val_loss: 0.6914 - val_acc: 0.5207\n",
            "Epoch 8/50\n",
            "179/179 [==============================] - 0s 3ms/step - loss: 0.6875 - acc: 0.5754 - val_loss: 0.6891 - val_acc: 0.5207\n",
            "Epoch 9/50\n",
            "179/179 [==============================] - 0s 3ms/step - loss: 0.6815 - acc: 0.5754 - val_loss: 0.6860 - val_acc: 0.5455\n",
            "Epoch 10/50\n",
            "179/179 [==============================] - 0s 3ms/step - loss: 0.6728 - acc: 0.5866 - val_loss: 0.6789 - val_acc: 0.5289\n",
            "Epoch 11/50\n",
            "179/179 [==============================] - 0s 3ms/step - loss: 0.6616 - acc: 0.5810 - val_loss: 0.6695 - val_acc: 0.5289\n",
            "Epoch 12/50\n",
            "179/179 [==============================] - 0s 3ms/step - loss: 0.6409 - acc: 0.5754 - val_loss: 0.6629 - val_acc: 0.5868\n",
            "Epoch 13/50\n",
            "179/179 [==============================] - 0s 3ms/step - loss: 0.6578 - acc: 0.5754 - val_loss: 0.6549 - val_acc: 0.6198\n",
            "Epoch 14/50\n",
            "179/179 [==============================] - 0s 3ms/step - loss: 0.6304 - acc: 0.5978 - val_loss: 0.6689 - val_acc: 0.5537\n",
            "Epoch 15/50\n",
            "179/179 [==============================] - 0s 3ms/step - loss: 0.6134 - acc: 0.6536 - val_loss: 0.6499 - val_acc: 0.6033\n",
            "Epoch 16/50\n",
            "179/179 [==============================] - 0s 3ms/step - loss: 0.5962 - acc: 0.6592 - val_loss: 0.6343 - val_acc: 0.5868\n",
            "Epoch 17/50\n",
            "179/179 [==============================] - 0s 3ms/step - loss: 0.5595 - acc: 0.7151 - val_loss: 0.6256 - val_acc: 0.6281\n",
            "Epoch 18/50\n",
            "179/179 [==============================] - 0s 3ms/step - loss: 0.5307 - acc: 0.7095 - val_loss: 0.7534 - val_acc: 0.5537\n",
            "Epoch 19/50\n",
            "179/179 [==============================] - 0s 3ms/step - loss: 0.5730 - acc: 0.6648 - val_loss: 0.6250 - val_acc: 0.6281\n",
            "Epoch 20/50\n",
            "179/179 [==============================] - 0s 3ms/step - loss: 0.5333 - acc: 0.7263 - val_loss: 0.6420 - val_acc: 0.5868\n",
            "Epoch 21/50\n",
            "179/179 [==============================] - 0s 3ms/step - loss: 0.5471 - acc: 0.6872 - val_loss: 0.6397 - val_acc: 0.6446\n",
            "Epoch 22/50\n",
            "179/179 [==============================] - 0s 3ms/step - loss: 0.5435 - acc: 0.7151 - val_loss: 0.6470 - val_acc: 0.6198\n",
            "Epoch 23/50\n",
            "179/179 [==============================] - 0s 3ms/step - loss: 0.4913 - acc: 0.7877 - val_loss: 0.6363 - val_acc: 0.6364\n",
            "Epoch 24/50\n",
            "179/179 [==============================] - 0s 3ms/step - loss: 0.4649 - acc: 0.7486 - val_loss: 0.7461 - val_acc: 0.5702\n",
            "Epoch 25/50\n",
            "179/179 [==============================] - 0s 3ms/step - loss: 0.4599 - acc: 0.7374 - val_loss: 0.6610 - val_acc: 0.6033\n",
            "Epoch 26/50\n",
            "179/179 [==============================] - 0s 3ms/step - loss: 0.4479 - acc: 0.7430 - val_loss: 0.6647 - val_acc: 0.6612\n",
            "Epoch 27/50\n",
            "179/179 [==============================] - 0s 3ms/step - loss: 0.4169 - acc: 0.8156 - val_loss: 0.6332 - val_acc: 0.6281\n",
            "Epoch 28/50\n",
            "179/179 [==============================] - 0s 3ms/step - loss: 0.3872 - acc: 0.8101 - val_loss: 0.6364 - val_acc: 0.6116\n",
            "Epoch 29/50\n",
            "179/179 [==============================] - 0s 3ms/step - loss: 0.3633 - acc: 0.8212 - val_loss: 0.6424 - val_acc: 0.6198\n",
            "Epoch 30/50\n",
            "179/179 [==============================] - 0s 3ms/step - loss: 0.3417 - acc: 0.8380 - val_loss: 0.7023 - val_acc: 0.6281\n",
            "Epoch 31/50\n",
            "179/179 [==============================] - 0s 3ms/step - loss: 0.3752 - acc: 0.8101 - val_loss: 0.6726 - val_acc: 0.6198\n",
            "Epoch 32/50\n",
            "179/179 [==============================] - 0s 3ms/step - loss: 0.3195 - acc: 0.8603 - val_loss: 0.6625 - val_acc: 0.6612\n",
            "Epoch 33/50\n",
            "179/179 [==============================] - 0s 3ms/step - loss: 0.3042 - acc: 0.8659 - val_loss: 0.6978 - val_acc: 0.6777\n",
            "Epoch 34/50\n",
            "179/179 [==============================] - 0s 3ms/step - loss: 0.2882 - acc: 0.8603 - val_loss: 0.6802 - val_acc: 0.6694\n",
            "Epoch 35/50\n",
            "179/179 [==============================] - 0s 3ms/step - loss: 0.2529 - acc: 0.9106 - val_loss: 0.7101 - val_acc: 0.6860\n",
            "Epoch 36/50\n",
            "179/179 [==============================] - 0s 3ms/step - loss: 0.2274 - acc: 0.9162 - val_loss: 0.8719 - val_acc: 0.6446\n",
            "Epoch 37/50\n",
            "179/179 [==============================] - 0s 3ms/step - loss: 0.2253 - acc: 0.9274 - val_loss: 0.7528 - val_acc: 0.6694\n",
            "Epoch 38/50\n",
            "179/179 [==============================] - 0s 3ms/step - loss: 0.1889 - acc: 0.9385 - val_loss: 0.7672 - val_acc: 0.6446\n",
            "Epoch 39/50\n",
            "179/179 [==============================] - 0s 3ms/step - loss: 0.1659 - acc: 0.9497 - val_loss: 0.8154 - val_acc: 0.7273\n",
            "Epoch 40/50\n",
            "179/179 [==============================] - 0s 3ms/step - loss: 0.1520 - acc: 0.9609 - val_loss: 0.9993 - val_acc: 0.6612\n",
            "Epoch 41/50\n",
            "179/179 [==============================] - 0s 3ms/step - loss: 0.1357 - acc: 0.9609 - val_loss: 0.8225 - val_acc: 0.6860\n",
            "Epoch 42/50\n",
            "179/179 [==============================] - 0s 3ms/step - loss: 0.1339 - acc: 0.9497 - val_loss: 0.8628 - val_acc: 0.6529\n",
            "Epoch 43/50\n",
            "179/179 [==============================] - 0s 3ms/step - loss: 0.1082 - acc: 0.9777 - val_loss: 1.0429 - val_acc: 0.7025\n",
            "Epoch 44/50\n",
            "179/179 [==============================] - 0s 3ms/step - loss: 0.0765 - acc: 0.9944 - val_loss: 1.0146 - val_acc: 0.6777\n",
            "Epoch 45/50\n",
            "179/179 [==============================] - 0s 3ms/step - loss: 0.0670 - acc: 0.9944 - val_loss: 1.5676 - val_acc: 0.6942\n",
            "Epoch 46/50\n",
            "179/179 [==============================] - 0s 3ms/step - loss: 0.0672 - acc: 0.9944 - val_loss: 1.1803 - val_acc: 0.6777\n",
            "Epoch 47/50\n",
            "179/179 [==============================] - 0s 3ms/step - loss: 0.0481 - acc: 1.0000 - val_loss: 1.3449 - val_acc: 0.6529\n",
            "Epoch 48/50\n",
            "179/179 [==============================] - 0s 3ms/step - loss: 0.0375 - acc: 1.0000 - val_loss: 1.4864 - val_acc: 0.6860\n",
            "Epoch 49/50\n",
            "179/179 [==============================] - 0s 3ms/step - loss: 0.0327 - acc: 1.0000 - val_loss: 1.5027 - val_acc: 0.6694\n",
            "Epoch 50/50\n",
            "179/179 [==============================] - 0s 3ms/step - loss: 0.0285 - acc: 1.0000 - val_loss: 1.4125 - val_acc: 0.6860\n"
          ],
          "name": "stdout"
        }
      ]
    },
    {
      "cell_type": "code",
      "metadata": {
        "id": "McysBEzfs7BQ",
        "colab_type": "code",
        "colab": {
          "base_uri": "https://localhost:8080/",
          "height": 545
        },
        "outputId": "e6ad822e-84eb-4ba3-8a39-beb864941679"
      },
      "source": [
        "acc = history.history['acc']\n",
        "val_acc = history.history['val_acc']\n",
        "loss = history.history['loss']\n",
        "val_loss = history.history['val_loss']\n",
        " \n",
        "epochs = range(len(acc))\n",
        " \n",
        "plt.plot(epochs, acc, 'b', label='Training acc')\n",
        "plt.plot(epochs, val_acc, 'r', label='Validation acc')\n",
        "plt.title('Training and validation accuracy')\n",
        "plt.legend()\n",
        " \n",
        "plt.figure()\n",
        " \n",
        "plt.plot(epochs, loss, 'b', label='Training loss')\n",
        "plt.plot(epochs, val_loss, 'r', label='Validation loss')\n",
        "plt.title('Training and validation loss')\n",
        "plt.legend()\n",
        " \n",
        "plt.show()"
      ],
      "execution_count": 20,
      "outputs": [
        {
          "output_type": "display_data",
          "data": {
            "image/png": "[encoded data removed]",
            "text/plain": [
              "<Figure size 432x288 with 1 Axes>"
            ]
          },
          "metadata": {
            "tags": []
          }
        },
        {
          "output_type": "display_data",
          "data": {
            "image/png": "[encoded data removed]",
            "text/plain": [
              "<Figure size 432x288 with 1 Axes>"
            ]
          },
          "metadata": {
            "tags": []
          }
        }
      ]
    },
    {
      "cell_type": "code",
      "metadata": {
        "id": "FuNIwcIps9gr",
        "colab_type": "code",
        "colab": {
          "base_uri": "https://localhost:8080/",
          "height": 564
        },
        "outputId": "63991e48-77ec-4691-848f-e2c8ef633248"
      },
      "source": [
        "model2 = Sequential()\n",
        "model2.add(Conv2D(64,kernel_size=(3,3),activation = 'relu',input_shape=(IMG_SIZE,IMG_SIZE,1),padding='same'))\n",
        "model2.add(MaxPooling2D((2,2),padding='same'))\n",
        "model2.add(Conv2D(32,kernel_size=(3,3),activation = 'relu',padding='same'))\n",
        "model2.add(MaxPooling2D((2,2),padding='same'))\n",
        "model2.add(Flatten())\n",
        "model2.add(Dense(512, activation='relu')) \n",
        "model2.add(Dropout(0.5))\n",
        "model2.add(Dense(64, activation='relu')) \n",
        "model2.add(Dropout(0.5))\n",
        "model2.add(Dense(num_classes, activation='sigmoid'))\n",
        "model2.compile(loss=keras.losses.categorical_crossentropy, optimizer=keras.optimizers.Adam(),metrics=['accuracy'])\n",
        "model2.summary()"
      ],
      "execution_count": 12,
      "outputs": [
        {
          "output_type": "stream",
          "text": [
            "W0715 22:19:43.123279 139976471684992 deprecation.py:506] From /usr/local/lib/python3.6/dist-packages/keras/backend/tensorflow_backend.py:3445: calling dropout (from tensorflow.python.ops.nn_ops) with keep_prob is deprecated and will be removed in a future version.\n",
            "Instructions for updating:\n",
            "Please use `rate` instead of `keep_prob`. Rate should be set to `rate = 1 - keep_prob`.\n"
          ],
          "name": "stderr"
        },
        {
          "output_type": "stream",
          "text": [
            "_________________________________________________________________\n",
            "Layer (type)                 Output Shape              Param #   \n",
            "=================================================================\n",
            "conv2d_3 (Conv2D)            (None, 28, 28, 64)        640       \n",
            "_________________________________________________________________\n",
            "max_pooling2d_3 (MaxPooling2 (None, 14, 14, 64)        0         \n",
            "_________________________________________________________________\n",
            "conv2d_4 (Conv2D)            (None, 14, 14, 32)        18464     \n",
            "_________________________________________________________________\n",
            "max_pooling2d_4 (MaxPooling2 (None, 7, 7, 32)          0         \n",
            "_________________________________________________________________\n",
            "flatten_2 (Flatten)          (None, 1568)              0         \n",
            "_________________________________________________________________\n",
            "dense_4 (Dense)              (None, 512)               803328    \n",
            "_________________________________________________________________\n",
            "dropout_1 (Dropout)          (None, 512)               0         \n",
            "_________________________________________________________________\n",
            "dense_5 (Dense)              (None, 64)                32832     \n",
            "_________________________________________________________________\n",
            "dropout_2 (Dropout)          (None, 64)                0         \n",
            "_________________________________________________________________\n",
            "dense_6 (Dense)              (None, 2)                 130       \n",
            "=================================================================\n",
            "Total params: 855,394\n",
            "Trainable params: 855,394\n",
            "Non-trainable params: 0\n",
            "_________________________________________________________________\n"
          ],
          "name": "stdout"
        }
      ]
    },
    {
      "cell_type": "code",
      "metadata": {
        "id": "K1h4Gqrrt8Xs",
        "colab_type": "code",
        "colab": {
          "base_uri": "https://localhost:8080/",
          "height": 1000
        },
        "outputId": "6b768731-eaa7-4db3-b29e-bd8cae8d98ec"
      },
      "source": [
        "batch_size = 64\n",
        "epochs = 50\n",
        "num_classes = 2\n",
        "\n",
        "history = model2.fit(train_features_reshaped, train_labels_one_hot, batch_size=batch_size,epochs=epochs,verbose=1,validation_data=(test_features_reshaped, test_labels_one_hot))"
      ],
      "execution_count": 13,
      "outputs": [
        {
          "output_type": "stream",
          "text": [
            "Train on 179 samples, validate on 121 samples\n",
            "Epoch 1/50\n",
            "179/179 [==============================] - 1s 5ms/step - loss: 0.6854 - acc: 0.5810 - val_loss: 0.6929 - val_acc: 0.5124\n",
            "Epoch 2/50\n",
            "179/179 [==============================] - 0s 2ms/step - loss: 0.7321 - acc: 0.4246 - val_loss: 0.6939 - val_acc: 0.5041\n",
            "Epoch 3/50\n",
            "179/179 [==============================] - 0s 2ms/step - loss: 0.6986 - acc: 0.4972 - val_loss: 0.6933 - val_acc: 0.4959\n",
            "Epoch 4/50\n",
            "179/179 [==============================] - 0s 2ms/step - loss: 0.6941 - acc: 0.5028 - val_loss: 0.6933 - val_acc: 0.4959\n",
            "Epoch 5/50\n",
            "179/179 [==============================] - 0s 2ms/step - loss: 0.6938 - acc: 0.5363 - val_loss: 0.6930 - val_acc: 0.5289\n",
            "Epoch 6/50\n",
            "179/179 [==============================] - 0s 2ms/step - loss: 0.6899 - acc: 0.5419 - val_loss: 0.6929 - val_acc: 0.4959\n",
            "Epoch 7/50\n",
            "179/179 [==============================] - 0s 2ms/step - loss: 0.6939 - acc: 0.4693 - val_loss: 0.6930 - val_acc: 0.4959\n",
            "Epoch 8/50\n",
            "179/179 [==============================] - 0s 2ms/step - loss: 0.6940 - acc: 0.4860 - val_loss: 0.6933 - val_acc: 0.4959\n",
            "Epoch 9/50\n",
            "179/179 [==============================] - 0s 2ms/step - loss: 0.6878 - acc: 0.5196 - val_loss: 0.6928 - val_acc: 0.4959\n",
            "Epoch 10/50\n",
            "179/179 [==============================] - 0s 2ms/step - loss: 0.6933 - acc: 0.5196 - val_loss: 0.6926 - val_acc: 0.4959\n",
            "Epoch 11/50\n",
            "179/179 [==============================] - 0s 2ms/step - loss: 0.6942 - acc: 0.4804 - val_loss: 0.6924 - val_acc: 0.5620\n",
            "Epoch 12/50\n",
            "179/179 [==============================] - 0s 2ms/step - loss: 0.6844 - acc: 0.5866 - val_loss: 0.6920 - val_acc: 0.5041\n",
            "Epoch 13/50\n",
            "179/179 [==============================] - 0s 2ms/step - loss: 0.6985 - acc: 0.5140 - val_loss: 0.6922 - val_acc: 0.5041\n",
            "Epoch 14/50\n",
            "179/179 [==============================] - 0s 2ms/step - loss: 0.6956 - acc: 0.5028 - val_loss: 0.6917 - val_acc: 0.5041\n",
            "Epoch 15/50\n",
            "179/179 [==============================] - 0s 2ms/step - loss: 0.6891 - acc: 0.5419 - val_loss: 0.6918 - val_acc: 0.5207\n",
            "Epoch 16/50\n",
            "179/179 [==============================] - 0s 2ms/step - loss: 0.6975 - acc: 0.4749 - val_loss: 0.6921 - val_acc: 0.5868\n",
            "Epoch 17/50\n",
            "179/179 [==============================] - 0s 2ms/step - loss: 0.6903 - acc: 0.5251 - val_loss: 0.6921 - val_acc: 0.5537\n",
            "Epoch 18/50\n",
            "179/179 [==============================] - 0s 2ms/step - loss: 0.6902 - acc: 0.5587 - val_loss: 0.6918 - val_acc: 0.5207\n",
            "Epoch 19/50\n",
            "179/179 [==============================] - 0s 2ms/step - loss: 0.6910 - acc: 0.5084 - val_loss: 0.6914 - val_acc: 0.5950\n",
            "Epoch 20/50\n",
            "179/179 [==============================] - 0s 2ms/step - loss: 0.6884 - acc: 0.5363 - val_loss: 0.6907 - val_acc: 0.5785\n",
            "Epoch 21/50\n",
            "179/179 [==============================] - 0s 2ms/step - loss: 0.6865 - acc: 0.5475 - val_loss: 0.6900 - val_acc: 0.5868\n",
            "Epoch 22/50\n",
            "179/179 [==============================] - 0s 2ms/step - loss: 0.6848 - acc: 0.5196 - val_loss: 0.6883 - val_acc: 0.5537\n",
            "Epoch 23/50\n",
            "179/179 [==============================] - 0s 2ms/step - loss: 0.6904 - acc: 0.4916 - val_loss: 0.6872 - val_acc: 0.5620\n",
            "Epoch 24/50\n",
            "179/179 [==============================] - 0s 2ms/step - loss: 0.6917 - acc: 0.4916 - val_loss: 0.6859 - val_acc: 0.5620\n",
            "Epoch 25/50\n",
            "179/179 [==============================] - 0s 2ms/step - loss: 0.6751 - acc: 0.5642 - val_loss: 0.6825 - val_acc: 0.5702\n",
            "Epoch 26/50\n",
            "179/179 [==============================] - 0s 2ms/step - loss: 0.6772 - acc: 0.5419 - val_loss: 0.6798 - val_acc: 0.5620\n",
            "Epoch 27/50\n",
            "179/179 [==============================] - 0s 2ms/step - loss: 0.6767 - acc: 0.5866 - val_loss: 0.6783 - val_acc: 0.5950\n",
            "Epoch 28/50\n",
            "179/179 [==============================] - 0s 2ms/step - loss: 0.6592 - acc: 0.6201 - val_loss: 0.6704 - val_acc: 0.5537\n",
            "Epoch 29/50\n",
            "179/179 [==============================] - 0s 2ms/step - loss: 0.6690 - acc: 0.5698 - val_loss: 0.6672 - val_acc: 0.5537\n",
            "Epoch 30/50\n",
            "179/179 [==============================] - 0s 2ms/step - loss: 0.6527 - acc: 0.6034 - val_loss: 0.6625 - val_acc: 0.5868\n",
            "Epoch 31/50\n",
            "179/179 [==============================] - 0s 2ms/step - loss: 0.6366 - acc: 0.6480 - val_loss: 0.6503 - val_acc: 0.5620\n",
            "Epoch 32/50\n",
            "179/179 [==============================] - 0s 2ms/step - loss: 0.6536 - acc: 0.5754 - val_loss: 0.6425 - val_acc: 0.5950\n",
            "Epoch 33/50\n",
            "179/179 [==============================] - 0s 2ms/step - loss: 0.6156 - acc: 0.6313 - val_loss: 0.6382 - val_acc: 0.5785\n",
            "Epoch 34/50\n",
            "179/179 [==============================] - 0s 2ms/step - loss: 0.5790 - acc: 0.6648 - val_loss: 0.6407 - val_acc: 0.5868\n",
            "Epoch 35/50\n",
            "179/179 [==============================] - 0s 2ms/step - loss: 0.6244 - acc: 0.6034 - val_loss: 0.6217 - val_acc: 0.6116\n",
            "Epoch 36/50\n",
            "179/179 [==============================] - 0s 2ms/step - loss: 0.5988 - acc: 0.6425 - val_loss: 0.6489 - val_acc: 0.6694\n",
            "Epoch 37/50\n",
            "179/179 [==============================] - 0s 2ms/step - loss: 0.6018 - acc: 0.6704 - val_loss: 0.6361 - val_acc: 0.6364\n",
            "Epoch 38/50\n",
            "179/179 [==============================] - 0s 2ms/step - loss: 0.5645 - acc: 0.6760 - val_loss: 0.6228 - val_acc: 0.6116\n",
            "Epoch 39/50\n",
            "179/179 [==============================] - 0s 2ms/step - loss: 0.5263 - acc: 0.7318 - val_loss: 0.6499 - val_acc: 0.6033\n",
            "Epoch 40/50\n",
            "179/179 [==============================] - 0s 2ms/step - loss: 0.5619 - acc: 0.7039 - val_loss: 0.6257 - val_acc: 0.6281\n",
            "Epoch 41/50\n",
            "179/179 [==============================] - 0s 2ms/step - loss: 0.5252 - acc: 0.7430 - val_loss: 0.6172 - val_acc: 0.6364\n",
            "Epoch 42/50\n",
            "179/179 [==============================] - 0s 2ms/step - loss: 0.5206 - acc: 0.7263 - val_loss: 0.6210 - val_acc: 0.6777\n",
            "Epoch 43/50\n",
            "179/179 [==============================] - 0s 2ms/step - loss: 0.5336 - acc: 0.7039 - val_loss: 0.6217 - val_acc: 0.6281\n",
            "Epoch 44/50\n",
            "179/179 [==============================] - 0s 2ms/step - loss: 0.4935 - acc: 0.7318 - val_loss: 0.6468 - val_acc: 0.6116\n",
            "Epoch 45/50\n",
            "179/179 [==============================] - 0s 2ms/step - loss: 0.5103 - acc: 0.6872 - val_loss: 0.6325 - val_acc: 0.6116\n",
            "Epoch 46/50\n",
            "179/179 [==============================] - 0s 2ms/step - loss: 0.4586 - acc: 0.7542 - val_loss: 0.6426 - val_acc: 0.6612\n",
            "Epoch 47/50\n",
            "179/179 [==============================] - 0s 2ms/step - loss: 0.4376 - acc: 0.7598 - val_loss: 0.6423 - val_acc: 0.6364\n",
            "Epoch 48/50\n",
            "179/179 [==============================] - 0s 2ms/step - loss: 0.4268 - acc: 0.7989 - val_loss: 0.6644 - val_acc: 0.6198\n",
            "Epoch 49/50\n",
            "179/179 [==============================] - 0s 2ms/step - loss: 0.4313 - acc: 0.7654 - val_loss: 0.6690 - val_acc: 0.6777\n",
            "Epoch 50/50\n",
            "179/179 [==============================] - 0s 2ms/step - loss: 0.4098 - acc: 0.8156 - val_loss: 0.6646 - val_acc: 0.6364\n"
          ],
          "name": "stdout"
        }
      ]
    },
    {
      "cell_type": "code",
      "metadata": {
        "id": "CJlbt2RYuEzQ",
        "colab_type": "code",
        "colab": {
          "base_uri": "https://localhost:8080/",
          "height": 545
        },
        "outputId": "bab059cc-1406-436c-83a2-6dfab26a2601"
      },
      "source": [
        "acc = history.history['acc']\n",
        "val_acc = history.history['val_acc']\n",
        "loss = history.history['loss']\n",
        "val_loss = history.history['val_loss']\n",
        " \n",
        "epochs = range(len(acc))\n",
        " \n",
        "plt.plot(epochs, acc, 'b', label='Training acc')\n",
        "plt.plot(epochs, val_acc, 'r', label='Validation acc')\n",
        "plt.title('Training and validation accuracy')\n",
        "plt.legend()\n",
        " \n",
        "plt.figure()\n",
        " \n",
        "plt.plot(epochs, loss, 'b', label='Training loss')\n",
        "plt.plot(epochs, val_loss, 'r', label='Validation loss')\n",
        "plt.title('Training and validation loss')\n",
        "plt.legend()\n",
        " \n",
        "plt.show()"
      ],
      "execution_count": 14,
      "outputs": [
        {
          "output_type": "display_data",
          "data": {
            "image/png": "[encoded data removed]",
            "text/plain": [
              "<Figure size 432x288 with 1 Axes>"
            ]
          },
          "metadata": {
            "tags": []
          }
        },
        {
          "output_type": "display_data",
          "data": {
            "image/png": "[encoded data removed]",
            "text/plain": [
              "<Figure size 432x288 with 1 Axes>"
            ]
          },
          "metadata": {
            "tags": []
          }
        }
      ]
    },
    {
      "cell_type": "code",
      "metadata": {
        "id": "P-7035YguIh5",
        "colab_type": "code",
        "colab": {}
      },
      "source": [
        ""
      ],
      "execution_count": 0,
      "outputs": []
    }
  ]
}