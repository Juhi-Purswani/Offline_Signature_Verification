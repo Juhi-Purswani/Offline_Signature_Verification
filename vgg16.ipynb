{
  "nbformat": 4,
  "nbformat_minor": 0,
  "metadata": {
    "colab": {
      "name": "vgg16.ipynb",
      "version": "0.3.2",
      "provenance": [],
      "collapsed_sections": [],
      "include_colab_link": true
    },
    "kernelspec": {
      "name": "python3",
      "display_name": "Python 3"
    },
    "accelerator": "TPU"
  },
  "cells": [
    {
      "cell_type": "markdown",
      "metadata": {
        "id": "view-in-github",
        "colab_type": "text"
      },
      "source": [
        "<a href=\"https://colab.research.google.com/github/Juhi-Purswani/Offline_Signature_Verification/blob/master/vgg16.ipynb\" target=\"_parent\"><img src=\"https://colab.research.google.com/assets/colab-badge.svg\" alt=\"Open In Colab\"/></a>"
      ]
    },
    {
      "cell_type": "code",
      "metadata": {
        "id": "G26qlx234Bhw",
        "colab_type": "code",
        "outputId": "ca68c0ef-a4b6-4e1b-cfa7-61c5b1a80e26",
        "colab": {
          "base_uri": "https://localhost:8080/",
          "height": 125
        }
      },
      "source": [
        "from google.colab import drive\n",
        "drive.mount('/content/drive')"
      ],
      "execution_count": 1,
      "outputs": [
        {
          "output_type": "stream",
          "text": [
            "Go to this URL in a browser: https://accounts.google.com/o/oauth2/auth?client_id=947318989803-6bn6qk8qdgf4n4g3pfee6491hc0brc4i.apps.googleusercontent.com&redirect_uri=urn%3Aietf%3Awg%3Aoauth%3A2.0%3Aoob&scope=email%20https%3A%2F%2Fwww.googleapis.com%2Fauth%2Fdocs.test%20https%3A%2F%2Fwww.googleapis.com%2Fauth%2Fdrive%20https%3A%2F%2Fwww.googleapis.com%2Fauth%2Fdrive.photos.readonly%20https%3A%2F%2Fwww.googleapis.com%2Fauth%2Fpeopleapi.readonly&response_type=code\n",
            "\n",
            "Enter your authorization code:\n",
            "··········\n",
            "Mounted at /content/drive\n"
          ],
          "name": "stdout"
        }
      ]
    },
    {
      "cell_type": "code",
      "metadata": {
        "id": "qQSnV__e6htc",
        "colab_type": "code",
        "outputId": "8f5f1858-46d2-48da-fc97-a2195101e92d",
        "colab": {
          "base_uri": "https://localhost:8080/",
          "height": 34
        }
      },
      "source": [
        " !ls"
      ],
      "execution_count": 2,
      "outputs": [
        {
          "output_type": "stream",
          "text": [
            "drive  sample_data\n"
          ],
          "name": "stdout"
        }
      ]
    },
    {
      "cell_type": "code",
      "metadata": {
        "id": "aTaF0Q9t6jp5",
        "colab_type": "code",
        "colab": {}
      },
      "source": [
        "import os\n",
        "os.chdir('./drive/My Drive/SignForge')"
      ],
      "execution_count": 0,
      "outputs": []
    },
    {
      "cell_type": "code",
      "metadata": {
        "id": "KL1wcrmK7YLo",
        "colab_type": "code",
        "outputId": "4678dd6c-7d42-4e62-c5f4-9bd2fccebd9b",
        "colab": {
          "base_uri": "https://localhost:8080/",
          "height": 34
        }
      },
      "source": [
        "import cv2                 # working with, mainly resizing, images\n",
        "import numpy as np         # dealing with arrays\n",
        "import os                  # dealing with directories\n",
        "from random import shuffle # mixing up or currently ordered data that might lead our network astray in training.\n",
        "from tqdm import tqdm \n",
        "import numpy as np\n",
        "from keras.utils import to_categorical\n",
        "\n",
        "from keras.models import Sequential, Model, load_model\n",
        "from keras import applications\n",
        "from keras import optimizers\n",
        "from keras.layers import Dropout, Flatten, Dense\n",
        "\n",
        "import matplotlib.pyplot as plt\n",
        "\n",
        "TRAIN_DIR = 'data/train_set'\n",
        "TEST_DIR = 'data/test_set'\n",
        "IMG_SIZE = 224\n",
        "img_rows, img_cols, img_channel = 224, 224, 3\n"
      ],
      "execution_count": 4,
      "outputs": [
        {
          "output_type": "stream",
          "text": [
            "Using TensorFlow backend.\n"
          ],
          "name": "stderr"
        }
      ]
    },
    {
      "cell_type": "code",
      "metadata": {
        "id": "IZUjW2f475un",
        "colab_type": "code",
        "colab": {}
      },
      "source": [
        "import cv2                 # working with, mainly resizing, images\n",
        "import numpy as np         # dealing with arrays\n",
        "import os                  # dealing with directories\n",
        "from random import shuffle # mixing up or currently ordered data that might lead our network astray in training.\n",
        "from tqdm import tqdm      \n",
        "\n",
        "TRAIN_DIR = 'data/train_set'\n",
        "TEST_DIR = 'data/test_set'\n",
        "IMG_SIZE = 224\n"
      ],
      "execution_count": 0,
      "outputs": []
    },
    {
      "cell_type": "code",
      "metadata": {
        "id": "ZhmN1wsr8JCo",
        "colab_type": "code",
        "colab": {}
      },
      "source": [
        "def person_img(img):\n",
        "    label = img.split('.')\n",
        "    k = label[0]\n",
        "    return [k[-3:]]\n",
        "def create_features(DIR):\n",
        "    features = []\n",
        "    labels = []\n",
        "    for img in tqdm(os.listdir(DIR)):\n",
        "        label = label_img(img)\n",
        "        person = person_img(img)\n",
        "       \n",
        "        path = os.path.join(DIR,img)\n",
        "        img = cv2.imread(path)\n",
        "        img = cv2.cvtColor(img, cv2.COLOR_BGR2RGB)\n",
        "        img = cv2.resize(img, (IMG_SIZE,IMG_SIZE))\n",
        "        features.append([img])\n",
        "        labels.append(np.array(label))\n",
        "    return features\n",
        "def label_img(img):\n",
        "    image_label = img.split('.')\n",
        "    name = image_label[0]\n",
        "    # checking if the signature is forged or genuine\n",
        "    #                            \n",
        "    \n",
        "    if name[4:7] == name[-3:]:\n",
        "        return 1\n",
        "  \n",
        "    elif name[4:7] != name[-3:]:\n",
        "        return 0"
      ],
      "execution_count": 0,
      "outputs": []
    },
    {
      "cell_type": "code",
      "metadata": {
        "id": "Ww5DW7UY8Lhn",
        "colab_type": "code",
        "outputId": "554c653b-2b82-4389-b303-749766b9e0c4",
        "colab": {
          "base_uri": "https://localhost:8080/",
          "height": 105
        }
      },
      "source": [
        "train_features  = np.array(create_features(TRAIN_DIR))\n",
        "test_features  = np.array(create_features(TEST_DIR))\n",
        "print (test_features.shape)\n",
        "train_features_reshaped = train_features.reshape(-1,224,224,3)\n",
        "test_features_reshaped = test_features.reshape(-1,224,224,3)\n",
        "print (test_features_reshaped.shape)\n",
        "print (train_features_reshaped.shape)\n",
        "\n",
        "train_features_reshaped = train_features_reshaped.astype('float32')\n",
        "test_features_reshaped = test_features_reshaped.astype('float32')\n",
        "train_features_reshaped = train_features_reshaped / 255.\n",
        "test_features_reshaped = test_features_reshaped / 255.\n",
        "#print (train_features_reshaped)"
      ],
      "execution_count": 7,
      "outputs": [
        {
          "output_type": "stream",
          "text": [
            "100%|██████████| 179/179 [01:00<00:00,  3.03it/s]\n",
            "100%|██████████| 121/121 [00:39<00:00,  3.49it/s]\n"
          ],
          "name": "stderr"
        },
        {
          "output_type": "stream",
          "text": [
            "(121, 1, 224, 224, 3)\n",
            "(121, 224, 224, 3)\n",
            "(179, 224, 224, 3)\n"
          ],
          "name": "stdout"
        }
      ]
    },
    {
      "cell_type": "code",
      "metadata": {
        "id": "A6fX1xZt8WE3",
        "colab_type": "code",
        "outputId": "5bd2e7cb-28ac-4d73-e7ae-42fa5a6b300e",
        "colab": {
          "base_uri": "https://localhost:8080/",
          "height": 34
        }
      },
      "source": [
        "train_features_reshaped.shape"
      ],
      "execution_count": 8,
      "outputs": [
        {
          "output_type": "execute_result",
          "data": {
            "text/plain": [
              "(179, 224, 224, 3)"
            ]
          },
          "metadata": {
            "tags": []
          },
          "execution_count": 8
        }
      ]
    },
    {
      "cell_type": "code",
      "metadata": {
        "id": "17l3Xvr79c04",
        "colab_type": "code",
        "outputId": "dbbec004-cd08-4d60-dead-84f0274197f2",
        "colab": {
          "base_uri": "https://localhost:8080/",
          "height": 87
        }
      },
      "source": [
        "def create_labels(DIR):\n",
        "    labels = []\n",
        "    for img in tqdm(os.listdir(DIR)):\n",
        "        label = label_img(img)\n",
        "        labels.append(np.array(label))\n",
        "    return labels\n",
        "train_labels = np.array(create_labels(TRAIN_DIR))\n",
        "test_labels = np.array(create_labels(TEST_DIR))\n",
        "print (test_labels.shape)\n",
        "train_labels_one_hot = to_categorical(train_labels)\n",
        "#print (train_labels_one_hot)\n",
        "test_labels_one_hot = to_categorical(test_labels)\n",
        "print (test_labels_one_hot.shape)"
      ],
      "execution_count": 9,
      "outputs": [
        {
          "output_type": "stream",
          "text": [
            "100%|██████████| 179/179 [00:00<00:00, 263246.99it/s]\n",
            "100%|██████████| 121/121 [00:00<00:00, 223081.66it/s]"
          ],
          "name": "stderr"
        },
        {
          "output_type": "stream",
          "text": [
            "(121,)\n",
            "(121, 2)\n"
          ],
          "name": "stdout"
        },
        {
          "output_type": "stream",
          "text": [
            "\n"
          ],
          "name": "stderr"
        }
      ]
    },
    {
      "cell_type": "code",
      "metadata": {
        "id": "qC5jcqeL9ymY",
        "colab_type": "code",
        "outputId": "c77c5dd3-259b-4b35-d3ba-55948c630da6",
        "colab": {
          "base_uri": "https://localhost:8080/",
          "height": 1000
        }
      },
      "source": [
        "base_model = applications.VGG16(weights='imagenet', include_top=False, input_shape=(img_rows, img_cols, img_channel))\n",
        "base_model.summary()\n",
        "\n",
        "add_model = Sequential()\n",
        "add_model.add(Flatten(input_shape=base_model.output_shape[1:]))\n",
        "add_model.add(Dense(256, activation='relu'))\n",
        "add_model.add(Dense(2, activation='sigmoid'))\n",
        "\n",
        "model = Model(inputs=base_model.input, outputs=add_model(base_model.output))\n",
        "model.compile(loss='binary_crossentropy', optimizer=optimizers.SGD(lr=1e-4, momentum=0.9),\n",
        "              metrics=['accuracy'])\n",
        "\n",
        "model.summary()"
      ],
      "execution_count": 13,
      "outputs": [
        {
          "output_type": "stream",
          "text": [
            "WARNING: Logging before flag parsing goes to stderr.\n",
            "W0713 14:59:58.362632 140133506992000 deprecation_wrapper.py:119] From /usr/local/lib/python3.6/dist-packages/keras/backend/tensorflow_backend.py:74: The name tf.get_default_graph is deprecated. Please use tf.compat.v1.get_default_graph instead.\n",
            "\n",
            "W0713 14:59:58.431775 140133506992000 deprecation_wrapper.py:119] From /usr/local/lib/python3.6/dist-packages/keras/backend/tensorflow_backend.py:517: The name tf.placeholder is deprecated. Please use tf.compat.v1.placeholder instead.\n",
            "\n",
            "W0713 14:59:58.446002 140133506992000 deprecation_wrapper.py:119] From /usr/local/lib/python3.6/dist-packages/keras/backend/tensorflow_backend.py:4138: The name tf.random_uniform is deprecated. Please use tf.random.uniform instead.\n",
            "\n",
            "W0713 14:59:58.510613 140133506992000 deprecation_wrapper.py:119] From /usr/local/lib/python3.6/dist-packages/keras/backend/tensorflow_backend.py:3976: The name tf.nn.max_pool is deprecated. Please use tf.nn.max_pool2d instead.\n",
            "\n"
          ],
          "name": "stderr"
        },
        {
          "output_type": "stream",
          "text": [
            "Downloading data from https://github.com/fchollet/deep-learning-models/releases/download/v0.1/vgg16_weights_tf_dim_ordering_tf_kernels_notop.h5\n",
            "58892288/58889256 [==============================] - 1s 0us/step\n"
          ],
          "name": "stdout"
        },
        {
          "output_type": "stream",
          "text": [
            "W0713 15:00:00.073915 140133506992000 deprecation_wrapper.py:119] From /usr/local/lib/python3.6/dist-packages/keras/backend/tensorflow_backend.py:174: The name tf.get_default_session is deprecated. Please use tf.compat.v1.get_default_session instead.\n",
            "\n",
            "W0713 15:00:00.075343 140133506992000 deprecation_wrapper.py:119] From /usr/local/lib/python3.6/dist-packages/keras/backend/tensorflow_backend.py:181: The name tf.ConfigProto is deprecated. Please use tf.compat.v1.ConfigProto instead.\n",
            "\n",
            "W0713 15:00:00.686165 140133506992000 deprecation_wrapper.py:119] From /usr/local/lib/python3.6/dist-packages/keras/optimizers.py:790: The name tf.train.Optimizer is deprecated. Please use tf.compat.v1.train.Optimizer instead.\n",
            "\n",
            "W0713 15:00:00.697702 140133506992000 deprecation.py:323] From /usr/local/lib/python3.6/dist-packages/tensorflow/python/ops/nn_impl.py:180: add_dispatch_support.<locals>.wrapper (from tensorflow.python.ops.array_ops) is deprecated and will be removed in a future version.\n",
            "Instructions for updating:\n",
            "Use tf.where in 2.0, which has the same broadcast rule as np.where\n"
          ],
          "name": "stderr"
        },
        {
          "output_type": "stream",
          "text": [
            "_________________________________________________________________\n",
            "Layer (type)                 Output Shape              Param #   \n",
            "=================================================================\n",
            "input_1 (InputLayer)         (None, 224, 224, 3)       0         \n",
            "_________________________________________________________________\n",
            "block1_conv1 (Conv2D)        (None, 224, 224, 64)      1792      \n",
            "_________________________________________________________________\n",
            "block1_conv2 (Conv2D)        (None, 224, 224, 64)      36928     \n",
            "_________________________________________________________________\n",
            "block1_pool (MaxPooling2D)   (None, 112, 112, 64)      0         \n",
            "_________________________________________________________________\n",
            "block2_conv1 (Conv2D)        (None, 112, 112, 128)     73856     \n",
            "_________________________________________________________________\n",
            "block2_conv2 (Conv2D)        (None, 112, 112, 128)     147584    \n",
            "_________________________________________________________________\n",
            "block2_pool (MaxPooling2D)   (None, 56, 56, 128)       0         \n",
            "_________________________________________________________________\n",
            "block3_conv1 (Conv2D)        (None, 56, 56, 256)       295168    \n",
            "_________________________________________________________________\n",
            "block3_conv2 (Conv2D)        (None, 56, 56, 256)       590080    \n",
            "_________________________________________________________________\n",
            "block3_conv3 (Conv2D)        (None, 56, 56, 256)       590080    \n",
            "_________________________________________________________________\n",
            "block3_pool (MaxPooling2D)   (None, 28, 28, 256)       0         \n",
            "_________________________________________________________________\n",
            "block4_conv1 (Conv2D)        (None, 28, 28, 512)       1180160   \n",
            "_________________________________________________________________\n",
            "block4_conv2 (Conv2D)        (None, 28, 28, 512)       2359808   \n",
            "_________________________________________________________________\n",
            "block4_conv3 (Conv2D)        (None, 28, 28, 512)       2359808   \n",
            "_________________________________________________________________\n",
            "block4_pool (MaxPooling2D)   (None, 14, 14, 512)       0         \n",
            "_________________________________________________________________\n",
            "block5_conv1 (Conv2D)        (None, 14, 14, 512)       2359808   \n",
            "_________________________________________________________________\n",
            "block5_conv2 (Conv2D)        (None, 14, 14, 512)       2359808   \n",
            "_________________________________________________________________\n",
            "block5_conv3 (Conv2D)        (None, 14, 14, 512)       2359808   \n",
            "_________________________________________________________________\n",
            "block5_pool (MaxPooling2D)   (None, 7, 7, 512)         0         \n",
            "=================================================================\n",
            "Total params: 14,714,688\n",
            "Trainable params: 14,714,688\n",
            "Non-trainable params: 0\n",
            "_________________________________________________________________\n",
            "_________________________________________________________________\n",
            "Layer (type)                 Output Shape              Param #   \n",
            "=================================================================\n",
            "input_1 (InputLayer)         (None, 224, 224, 3)       0         \n",
            "_________________________________________________________________\n",
            "block1_conv1 (Conv2D)        (None, 224, 224, 64)      1792      \n",
            "_________________________________________________________________\n",
            "block1_conv2 (Conv2D)        (None, 224, 224, 64)      36928     \n",
            "_________________________________________________________________\n",
            "block1_pool (MaxPooling2D)   (None, 112, 112, 64)      0         \n",
            "_________________________________________________________________\n",
            "block2_conv1 (Conv2D)        (None, 112, 112, 128)     73856     \n",
            "_________________________________________________________________\n",
            "block2_conv2 (Conv2D)        (None, 112, 112, 128)     147584    \n",
            "_________________________________________________________________\n",
            "block2_pool (MaxPooling2D)   (None, 56, 56, 128)       0         \n",
            "_________________________________________________________________\n",
            "block3_conv1 (Conv2D)        (None, 56, 56, 256)       295168    \n",
            "_________________________________________________________________\n",
            "block3_conv2 (Conv2D)        (None, 56, 56, 256)       590080    \n",
            "_________________________________________________________________\n",
            "block3_conv3 (Conv2D)        (None, 56, 56, 256)       590080    \n",
            "_________________________________________________________________\n",
            "block3_pool (MaxPooling2D)   (None, 28, 28, 256)       0         \n",
            "_________________________________________________________________\n",
            "block4_conv1 (Conv2D)        (None, 28, 28, 512)       1180160   \n",
            "_________________________________________________________________\n",
            "block4_conv2 (Conv2D)        (None, 28, 28, 512)       2359808   \n",
            "_________________________________________________________________\n",
            "block4_conv3 (Conv2D)        (None, 28, 28, 512)       2359808   \n",
            "_________________________________________________________________\n",
            "block4_pool (MaxPooling2D)   (None, 14, 14, 512)       0         \n",
            "_________________________________________________________________\n",
            "block5_conv1 (Conv2D)        (None, 14, 14, 512)       2359808   \n",
            "_________________________________________________________________\n",
            "block5_conv2 (Conv2D)        (None, 14, 14, 512)       2359808   \n",
            "_________________________________________________________________\n",
            "block5_conv3 (Conv2D)        (None, 14, 14, 512)       2359808   \n",
            "_________________________________________________________________\n",
            "block5_pool (MaxPooling2D)   (None, 7, 7, 512)         0         \n",
            "_________________________________________________________________\n",
            "sequential_1 (Sequential)    (None, 2)                 6423298   \n",
            "=================================================================\n",
            "Total params: 21,137,986\n",
            "Trainable params: 21,137,986\n",
            "Non-trainable params: 0\n",
            "_________________________________________________________________\n"
          ],
          "name": "stdout"
        }
      ]
    },
    {
      "cell_type": "code",
      "metadata": {
        "id": "7ooCK9v3-RX4",
        "colab_type": "code",
        "outputId": "867ccf19-06c6-45ad-a06f-7060ec06b099",
        "colab": {
          "base_uri": "https://localhost:8080/",
          "height": 1000
        }
      },
      "source": [
        "batch_size = 32\n",
        "epochs = 50\n",
        "\n",
        "history = model.fit(train_features_reshaped, train_labels_one_hot, batch_size=batch_size,epochs=epochs,verbose=1,validation_data=(test_features_reshaped, test_labels_one_hot))\n"
      ],
      "execution_count": 14,
      "outputs": [
        {
          "output_type": "stream",
          "text": [
            "Train on 179 samples, validate on 121 samples\n",
            "Epoch 1/50\n",
            "179/179 [==============================] - 415s 2s/step - loss: 0.7668 - acc: 0.4860 - val_loss: 0.6976 - val_acc: 0.4917\n",
            "Epoch 2/50\n",
            "179/179 [==============================] - 410s 2s/step - loss: 0.7320 - acc: 0.4972 - val_loss: 0.7441 - val_acc: 0.4959\n",
            "Epoch 3/50\n",
            "179/179 [==============================] - 414s 2s/step - loss: 0.7009 - acc: 0.5503 - val_loss: 0.6880 - val_acc: 0.5579\n",
            "Epoch 4/50\n",
            "179/179 [==============================] - 413s 2s/step - loss: 0.6817 - acc: 0.5279 - val_loss: 0.6804 - val_acc: 0.5785\n",
            "Epoch 5/50\n",
            "179/179 [==============================] - 413s 2s/step - loss: 0.6621 - acc: 0.6117 - val_loss: 0.6707 - val_acc: 0.5620\n",
            "Epoch 6/50\n",
            "179/179 [==============================] - 413s 2s/step - loss: 0.6451 - acc: 0.6620 - val_loss: 0.6584 - val_acc: 0.6364\n",
            "Epoch 7/50\n",
            "179/179 [==============================] - 415s 2s/step - loss: 0.6293 - acc: 0.7067 - val_loss: 0.6498 - val_acc: 0.6488\n",
            "Epoch 8/50\n",
            "179/179 [==============================] - 413s 2s/step - loss: 0.6147 - acc: 0.7430 - val_loss: 0.6419 - val_acc: 0.6736\n",
            "Epoch 9/50\n",
            "179/179 [==============================] - 414s 2s/step - loss: 0.6025 - acc: 0.7598 - val_loss: 0.6343 - val_acc: 0.6777\n",
            "Epoch 10/50\n",
            "179/179 [==============================] - 414s 2s/step - loss: 0.5912 - acc: 0.7765 - val_loss: 0.6269 - val_acc: 0.6777\n",
            "Epoch 11/50\n",
            "179/179 [==============================] - 414s 2s/step - loss: 0.5755 - acc: 0.8101 - val_loss: 0.6189 - val_acc: 0.7025\n",
            "Epoch 12/50\n",
            "179/179 [==============================] - 413s 2s/step - loss: 0.5636 - acc: 0.8184 - val_loss: 0.6109 - val_acc: 0.7066\n",
            "Epoch 13/50\n",
            "179/179 [==============================] - 413s 2s/step - loss: 0.5613 - acc: 0.7765 - val_loss: 0.6091 - val_acc: 0.6901\n",
            "Epoch 14/50\n",
            "179/179 [==============================] - 413s 2s/step - loss: 0.5407 - acc: 0.8101 - val_loss: 0.5958 - val_acc: 0.7107\n",
            "Epoch 15/50\n",
            "179/179 [==============================] - 412s 2s/step - loss: 0.5220 - acc: 0.8408 - val_loss: 0.5863 - val_acc: 0.7190\n",
            "Epoch 16/50\n",
            "179/179 [==============================] - 414s 2s/step - loss: 0.5045 - acc: 0.8743 - val_loss: 0.5746 - val_acc: 0.7314\n",
            "Epoch 17/50\n",
            "179/179 [==============================] - 412s 2s/step - loss: 0.4867 - acc: 0.8911 - val_loss: 0.5652 - val_acc: 0.7438\n",
            "Epoch 18/50\n",
            "179/179 [==============================] - 410s 2s/step - loss: 0.4684 - acc: 0.9078 - val_loss: 0.5532 - val_acc: 0.7355\n",
            "Epoch 19/50\n",
            "179/179 [==============================] - 410s 2s/step - loss: 0.4523 - acc: 0.9134 - val_loss: 0.5407 - val_acc: 0.7521\n",
            "Epoch 20/50\n",
            "179/179 [==============================] - 414s 2s/step - loss: 0.4331 - acc: 0.9218 - val_loss: 0.5296 - val_acc: 0.7562\n",
            "Epoch 21/50\n",
            "179/179 [==============================] - 414s 2s/step - loss: 0.4133 - acc: 0.9218 - val_loss: 0.5213 - val_acc: 0.7769\n",
            "Epoch 22/50\n",
            "179/179 [==============================] - 412s 2s/step - loss: 0.3929 - acc: 0.9358 - val_loss: 0.5036 - val_acc: 0.7769\n",
            "Epoch 23/50\n",
            "179/179 [==============================] - 413s 2s/step - loss: 0.3758 - acc: 0.9441 - val_loss: 0.4932 - val_acc: 0.7851\n",
            "Epoch 24/50\n",
            "179/179 [==============================] - 415s 2s/step - loss: 0.3440 - acc: 0.9469 - val_loss: 0.4759 - val_acc: 0.7893\n",
            "Epoch 25/50\n",
            "179/179 [==============================] - 414s 2s/step - loss: 0.3278 - acc: 0.9469 - val_loss: 0.4603 - val_acc: 0.8058\n",
            "Epoch 26/50\n",
            "179/179 [==============================] - 414s 2s/step - loss: 0.3030 - acc: 0.9665 - val_loss: 0.4445 - val_acc: 0.8099\n",
            "Epoch 27/50\n",
            "179/179 [==============================] - 413s 2s/step - loss: 0.2819 - acc: 0.9525 - val_loss: 0.4298 - val_acc: 0.8182\n",
            "Epoch 28/50\n",
            "179/179 [==============================] - 413s 2s/step - loss: 0.2640 - acc: 0.9665 - val_loss: 0.4212 - val_acc: 0.8140\n",
            "Epoch 29/50\n",
            "179/179 [==============================] - 413s 2s/step - loss: 0.2434 - acc: 0.9553 - val_loss: 0.4078 - val_acc: 0.8264\n",
            "Epoch 30/50\n",
            "179/179 [==============================] - 413s 2s/step - loss: 0.2126 - acc: 0.9749 - val_loss: 0.4061 - val_acc: 0.8182\n",
            "Epoch 31/50\n",
            "179/179 [==============================] - 411s 2s/step - loss: 0.1917 - acc: 0.9777 - val_loss: 0.3777 - val_acc: 0.8347\n",
            "Epoch 32/50\n",
            "179/179 [==============================] - 413s 2s/step - loss: 0.1725 - acc: 0.9860 - val_loss: 0.3675 - val_acc: 0.8388\n",
            "Epoch 33/50\n",
            "179/179 [==============================] - 414s 2s/step - loss: 0.1508 - acc: 0.9888 - val_loss: 0.3548 - val_acc: 0.8595\n",
            "Epoch 34/50\n",
            "179/179 [==============================] - 414s 2s/step - loss: 0.1310 - acc: 0.9944 - val_loss: 0.3431 - val_acc: 0.8678\n",
            "Epoch 35/50\n",
            "179/179 [==============================] - 413s 2s/step - loss: 0.1160 - acc: 0.9972 - val_loss: 0.3357 - val_acc: 0.8595\n",
            "Epoch 36/50\n",
            "179/179 [==============================] - 413s 2s/step - loss: 0.1015 - acc: 0.9972 - val_loss: 0.3232 - val_acc: 0.8884\n",
            "Epoch 37/50\n",
            "179/179 [==============================] - 415s 2s/step - loss: 0.0896 - acc: 0.9972 - val_loss: 0.3182 - val_acc: 0.8802\n",
            "Epoch 38/50\n",
            "179/179 [==============================] - 414s 2s/step - loss: 0.0775 - acc: 1.0000 - val_loss: 0.3112 - val_acc: 0.8884\n",
            "Epoch 39/50\n",
            "179/179 [==============================] - 414s 2s/step - loss: 0.0681 - acc: 1.0000 - val_loss: 0.3086 - val_acc: 0.8843\n",
            "Epoch 40/50\n",
            "179/179 [==============================] - 416s 2s/step - loss: 0.0605 - acc: 1.0000 - val_loss: 0.3058 - val_acc: 0.8802\n",
            "Epoch 41/50\n",
            "179/179 [==============================] - 416s 2s/step - loss: 0.0536 - acc: 1.0000 - val_loss: 0.2985 - val_acc: 0.8926\n",
            "Epoch 42/50\n",
            "179/179 [==============================] - 414s 2s/step - loss: 0.0457 - acc: 1.0000 - val_loss: 0.3015 - val_acc: 0.8843\n",
            "Epoch 43/50\n",
            "179/179 [==============================] - 414s 2s/step - loss: 0.0403 - acc: 1.0000 - val_loss: 0.2977 - val_acc: 0.8884\n",
            "Epoch 44/50\n",
            "179/179 [==============================] - 415s 2s/step - loss: 0.0375 - acc: 1.0000 - val_loss: 0.3019 - val_acc: 0.8843\n",
            "Epoch 45/50\n",
            "179/179 [==============================] - 415s 2s/step - loss: 0.0335 - acc: 1.0000 - val_loss: 0.3004 - val_acc: 0.8884\n",
            "Epoch 46/50\n",
            "179/179 [==============================] - 415s 2s/step - loss: 0.0294 - acc: 1.0000 - val_loss: 0.2902 - val_acc: 0.8926\n",
            "Epoch 47/50\n",
            "179/179 [==============================] - 414s 2s/step - loss: 0.0262 - acc: 1.0000 - val_loss: 0.2965 - val_acc: 0.8926\n",
            "Epoch 48/50\n",
            "179/179 [==============================] - 416s 2s/step - loss: 0.0244 - acc: 1.0000 - val_loss: 0.2956 - val_acc: 0.8926\n",
            "Epoch 49/50\n",
            "179/179 [==============================] - 415s 2s/step - loss: 0.0212 - acc: 1.0000 - val_loss: 0.2896 - val_acc: 0.8967\n",
            "Epoch 50/50\n",
            "179/179 [==============================] - 416s 2s/step - loss: 0.0207 - acc: 1.0000 - val_loss: 0.2928 - val_acc: 0.8926\n"
          ],
          "name": "stdout"
        }
      ]
    },
    {
      "cell_type": "code",
      "metadata": {
        "id": "jGsh_g2e-jJ3",
        "colab_type": "code",
        "colab": {
          "base_uri": "https://localhost:8080/",
          "height": 545
        },
        "outputId": "aac77bab-5780-4a68-e555-7c70160c851c"
      },
      "source": [
        "acc = history.history['acc']\n",
        "val_acc = history.history['val_acc']\n",
        "loss = history.history['loss']\n",
        "val_loss = history.history['val_loss']\n",
        " \n",
        "epochs = range(len(acc))\n",
        " \n",
        "plt.plot(epochs, acc, 'b', label='Training acc')\n",
        "plt.plot(epochs, val_acc, 'r', label='Validation acc')\n",
        "plt.title('Training and validation accuracy')\n",
        "plt.legend()\n",
        " \n",
        "plt.figure()\n",
        " \n",
        "plt.plot(epochs, loss, 'b', label='Training loss')\n",
        "plt.plot(epochs, val_loss, 'r', label='Validation loss')\n",
        "plt.title('Training and validation loss')\n",
        "plt.legend()\n",
        " \n",
        "plt.show()"
      ],
      "execution_count": 17,
      "outputs": [
        {
          "output_type": "display_data",
          "data": {
            "image/png": "[encoded data removed]",
            "text/plain": [
              "<Figure size 432x288 with 1 Axes>"
            ]
          },
          "metadata": {
            "tags": []
          }
        },
        {
          "output_type": "display_data",
          "data": {
            "image/png": "[encoded data removed]",
            "text/plain": [
              "<Figure size 432x288 with 1 Axes>"
            ]
          },
          "metadata": {
            "tags": []
          }
        }
      ]
    },
    {
      "cell_type": "code",
      "metadata": {
        "id": "W4IXOIz0GwSb",
        "colab_type": "code",
        "colab": {
          "base_uri": "https://localhost:8080/",
          "height": 351
        },
        "outputId": "9ac10bb8-4b27-44c9-c402-51f0536affe4"
      },
      "source": [
        "base_model1 = applications.VGG16(weights='imagenet', include_top=False, input_shape=(img_rows, img_cols, img_channel))\n",
        "for layer in base_model1.layers[:-12]:\n",
        "    layer.trainable = False\n",
        "    \n",
        "for layer in base_model1.layers:\n",
        "    print(layer, layer.trainable)"
      ],
      "execution_count": 15,
      "outputs": [
        {
          "output_type": "stream",
          "text": [
            "<keras.engine.input_layer.InputLayer object at 0x7f154c171d68> False\n",
            "<keras.layers.convolutional.Conv2D object at 0x7f154c171a58> False\n",
            "<keras.layers.convolutional.Conv2D object at 0x7f154c1df550> False\n",
            "<keras.layers.pooling.MaxPooling2D object at 0x7f154c178518> False\n",
            "<keras.layers.convolutional.Conv2D object at 0x7f154c178588> False\n",
            "<keras.layers.convolutional.Conv2D object at 0x7f154c1a1da0> False\n",
            "<keras.layers.pooling.MaxPooling2D object at 0x7f154c135710> False\n",
            "<keras.layers.convolutional.Conv2D object at 0x7f154c135860> True\n",
            "<keras.layers.convolutional.Conv2D object at 0x7f154c165cf8> True\n",
            "<keras.layers.convolutional.Conv2D object at 0x7f154c0fcf28> True\n",
            "<keras.layers.pooling.MaxPooling2D object at 0x7f154c110a90> True\n",
            "<keras.layers.convolutional.Conv2D object at 0x7f154c1290f0> True\n",
            "<keras.layers.convolutional.Conv2D object at 0x7f154c0c3ac8> True\n",
            "<keras.layers.convolutional.Conv2D object at 0x7f154c0d4ac8> True\n",
            "<keras.layers.pooling.MaxPooling2D object at 0x7f154c0ecf60> True\n",
            "<keras.layers.convolutional.Conv2D object at 0x7f154c0866d8> True\n",
            "<keras.layers.convolutional.Conv2D object at 0x7f154c02f390> True\n",
            "<keras.layers.convolutional.Conv2D object at 0x7f154c02fc18> True\n",
            "<keras.layers.pooling.MaxPooling2D object at 0x7f154c062be0> True\n"
          ],
          "name": "stdout"
        }
      ]
    },
    {
      "cell_type": "code",
      "metadata": {
        "id": "Avc2BTUMI6Zy",
        "colab_type": "code",
        "colab": {
          "base_uri": "https://localhost:8080/",
          "height": 843
        },
        "outputId": "dbd2354a-b2b8-46ae-c393-0b7ff8d6bb5f"
      },
      "source": [
        "add_model = Sequential()\n",
        "add_model.add(Flatten(input_shape=base_model1.output_shape[1:]))\n",
        "add_model.add(Dense(256, activation='relu'))\n",
        "add_model.add(Dense(2, activation='sigmoid'))\n",
        "\n",
        "model2 = Model(inputs=base_model1.input, outputs=add_model(base_model1.output))\n",
        "model2.compile(loss='binary_crossentropy', optimizer=optimizers.SGD(lr=1e-4, momentum=0.9),\n",
        "              metrics=['accuracy'])\n",
        "\n",
        "model2.summary()"
      ],
      "execution_count": 16,
      "outputs": [
        {
          "output_type": "stream",
          "text": [
            "_________________________________________________________________\n",
            "Layer (type)                 Output Shape              Param #   \n",
            "=================================================================\n",
            "input_5 (InputLayer)         (None, 224, 224, 3)       0         \n",
            "_________________________________________________________________\n",
            "block1_conv1 (Conv2D)        (None, 224, 224, 64)      1792      \n",
            "_________________________________________________________________\n",
            "block1_conv2 (Conv2D)        (None, 224, 224, 64)      36928     \n",
            "_________________________________________________________________\n",
            "block1_pool (MaxPooling2D)   (None, 112, 112, 64)      0         \n",
            "_________________________________________________________________\n",
            "block2_conv1 (Conv2D)        (None, 112, 112, 128)     73856     \n",
            "_________________________________________________________________\n",
            "block2_conv2 (Conv2D)        (None, 112, 112, 128)     147584    \n",
            "_________________________________________________________________\n",
            "block2_pool (MaxPooling2D)   (None, 56, 56, 128)       0         \n",
            "_________________________________________________________________\n",
            "block3_conv1 (Conv2D)        (None, 56, 56, 256)       295168    \n",
            "_________________________________________________________________\n",
            "block3_conv2 (Conv2D)        (None, 56, 56, 256)       590080    \n",
            "_________________________________________________________________\n",
            "block3_conv3 (Conv2D)        (None, 56, 56, 256)       590080    \n",
            "_________________________________________________________________\n",
            "block3_pool (MaxPooling2D)   (None, 28, 28, 256)       0         \n",
            "_________________________________________________________________\n",
            "block4_conv1 (Conv2D)        (None, 28, 28, 512)       1180160   \n",
            "_________________________________________________________________\n",
            "block4_conv2 (Conv2D)        (None, 28, 28, 512)       2359808   \n",
            "_________________________________________________________________\n",
            "block4_conv3 (Conv2D)        (None, 28, 28, 512)       2359808   \n",
            "_________________________________________________________________\n",
            "block4_pool (MaxPooling2D)   (None, 14, 14, 512)       0         \n",
            "_________________________________________________________________\n",
            "block5_conv1 (Conv2D)        (None, 14, 14, 512)       2359808   \n",
            "_________________________________________________________________\n",
            "block5_conv2 (Conv2D)        (None, 14, 14, 512)       2359808   \n",
            "_________________________________________________________________\n",
            "block5_conv3 (Conv2D)        (None, 14, 14, 512)       2359808   \n",
            "_________________________________________________________________\n",
            "block5_pool (MaxPooling2D)   (None, 7, 7, 512)         0         \n",
            "_________________________________________________________________\n",
            "sequential_2 (Sequential)    (None, 2)                 6423298   \n",
            "=================================================================\n",
            "Total params: 21,137,986\n",
            "Trainable params: 20,877,826\n",
            "Non-trainable params: 260,160\n",
            "_________________________________________________________________\n"
          ],
          "name": "stdout"
        }
      ]
    },
    {
      "cell_type": "code",
      "metadata": {
        "id": "KculvliYI7YF",
        "colab_type": "code",
        "colab": {
          "base_uri": "https://localhost:8080/",
          "height": 1000
        },
        "outputId": "ef45a8b4-c7f2-4d4d-8a7d-b4d12f40e658"
      },
      "source": [
        "batch_size = 32\n",
        "epochs = 50\n",
        "\n",
        "history = model2.fit(train_features_reshaped, train_labels_one_hot, batch_size=batch_size,epochs=epochs,verbose=1,validation_data=(test_features_reshaped, test_labels_one_hot))\n"
      ],
      "execution_count": 17,
      "outputs": [
        {
          "output_type": "stream",
          "text": [
            "Train on 179 samples, validate on 121 samples\n",
            "Epoch 1/50\n",
            "179/179 [==============================] - 304s 2s/step - loss: 0.7103 - acc: 0.4860 - val_loss: 0.7008 - val_acc: 0.5000\n",
            "Epoch 2/50\n",
            "179/179 [==============================] - 300s 2s/step - loss: 0.6996 - acc: 0.4832 - val_loss: 0.6939 - val_acc: 0.5000\n",
            "Epoch 3/50\n",
            "179/179 [==============================] - 302s 2s/step - loss: 0.6778 - acc: 0.5447 - val_loss: 0.6868 - val_acc: 0.5083\n",
            "Epoch 4/50\n",
            "179/179 [==============================] - 302s 2s/step - loss: 0.6683 - acc: 0.5950 - val_loss: 0.6771 - val_acc: 0.5207\n",
            "Epoch 5/50\n",
            "179/179 [==============================] - 301s 2s/step - loss: 0.6495 - acc: 0.6201 - val_loss: 0.6651 - val_acc: 0.6033\n",
            "Epoch 6/50\n",
            "179/179 [==============================] - 301s 2s/step - loss: 0.6370 - acc: 0.6620 - val_loss: 0.6558 - val_acc: 0.5785\n",
            "Epoch 7/50\n",
            "179/179 [==============================] - 302s 2s/step - loss: 0.6215 - acc: 0.6983 - val_loss: 0.6480 - val_acc: 0.6364\n",
            "Epoch 8/50\n",
            "179/179 [==============================] - 302s 2s/step - loss: 0.6102 - acc: 0.7346 - val_loss: 0.6396 - val_acc: 0.6446\n",
            "Epoch 9/50\n",
            "179/179 [==============================] - 302s 2s/step - loss: 0.5979 - acc: 0.7402 - val_loss: 0.6356 - val_acc: 0.6364\n",
            "Epoch 10/50\n",
            "179/179 [==============================] - 303s 2s/step - loss: 0.5834 - acc: 0.7654 - val_loss: 0.6249 - val_acc: 0.6570\n",
            "Epoch 11/50\n",
            "179/179 [==============================] - 303s 2s/step - loss: 0.5688 - acc: 0.7821 - val_loss: 0.6164 - val_acc: 0.6612\n",
            "Epoch 12/50\n",
            "179/179 [==============================] - 302s 2s/step - loss: 0.5533 - acc: 0.8240 - val_loss: 0.6092 - val_acc: 0.6777\n",
            "Epoch 13/50\n",
            "179/179 [==============================] - 302s 2s/step - loss: 0.5419 - acc: 0.8380 - val_loss: 0.5997 - val_acc: 0.6942\n",
            "Epoch 14/50\n",
            "179/179 [==============================] - 301s 2s/step - loss: 0.5235 - acc: 0.8492 - val_loss: 0.5902 - val_acc: 0.6942\n",
            "Epoch 15/50\n",
            "179/179 [==============================] - 303s 2s/step - loss: 0.5093 - acc: 0.8436 - val_loss: 0.5801 - val_acc: 0.7190\n",
            "Epoch 16/50\n",
            "179/179 [==============================] - 303s 2s/step - loss: 0.4967 - acc: 0.8799 - val_loss: 0.5726 - val_acc: 0.7231\n",
            "Epoch 17/50\n",
            "179/179 [==============================] - 303s 2s/step - loss: 0.4763 - acc: 0.9078 - val_loss: 0.5589 - val_acc: 0.7273\n",
            "Epoch 18/50\n",
            "179/179 [==============================] - 303s 2s/step - loss: 0.4621 - acc: 0.8855 - val_loss: 0.5478 - val_acc: 0.7355\n",
            "Epoch 19/50\n",
            "179/179 [==============================] - 302s 2s/step - loss: 0.4426 - acc: 0.8994 - val_loss: 0.5365 - val_acc: 0.7438\n",
            "Epoch 20/50\n",
            "179/179 [==============================] - 303s 2s/step - loss: 0.4269 - acc: 0.9274 - val_loss: 0.5278 - val_acc: 0.7479\n",
            "Epoch 21/50\n",
            "179/179 [==============================] - 303s 2s/step - loss: 0.4063 - acc: 0.9302 - val_loss: 0.5127 - val_acc: 0.7645\n",
            "Epoch 22/50\n",
            "179/179 [==============================] - 304s 2s/step - loss: 0.3915 - acc: 0.9162 - val_loss: 0.4997 - val_acc: 0.7645\n",
            "Epoch 23/50\n",
            "179/179 [==============================] - 304s 2s/step - loss: 0.3730 - acc: 0.9441 - val_loss: 0.4912 - val_acc: 0.8017\n",
            "Epoch 24/50\n",
            "179/179 [==============================] - 304s 2s/step - loss: 0.3575 - acc: 0.9413 - val_loss: 0.4751 - val_acc: 0.7686\n",
            "Epoch 25/50\n",
            "179/179 [==============================] - 305s 2s/step - loss: 0.3374 - acc: 0.9581 - val_loss: 0.4674 - val_acc: 0.8182\n",
            "Epoch 26/50\n",
            "179/179 [==============================] - 304s 2s/step - loss: 0.3164 - acc: 0.9693 - val_loss: 0.4526 - val_acc: 0.7810\n",
            "Epoch 27/50\n",
            "179/179 [==============================] - 304s 2s/step - loss: 0.2959 - acc: 0.9721 - val_loss: 0.4403 - val_acc: 0.8140\n",
            "Epoch 28/50\n",
            "179/179 [==============================] - 304s 2s/step - loss: 0.2813 - acc: 0.9693 - val_loss: 0.4296 - val_acc: 0.8264\n",
            "Epoch 29/50\n",
            "179/179 [==============================] - 304s 2s/step - loss: 0.2588 - acc: 0.9777 - val_loss: 0.4213 - val_acc: 0.7810\n",
            "Epoch 30/50\n",
            "179/179 [==============================] - 303s 2s/step - loss: 0.2406 - acc: 0.9804 - val_loss: 0.4094 - val_acc: 0.8388\n",
            "Epoch 31/50\n",
            "179/179 [==============================] - 304s 2s/step - loss: 0.2271 - acc: 0.9804 - val_loss: 0.3973 - val_acc: 0.8430\n",
            "Epoch 32/50\n",
            "179/179 [==============================] - 303s 2s/step - loss: 0.2107 - acc: 0.9860 - val_loss: 0.3913 - val_acc: 0.8058\n",
            "Epoch 33/50\n",
            "179/179 [==============================] - 304s 2s/step - loss: 0.1930 - acc: 0.9860 - val_loss: 0.3831 - val_acc: 0.8306\n",
            "Epoch 34/50\n",
            "179/179 [==============================] - 303s 2s/step - loss: 0.1769 - acc: 0.9832 - val_loss: 0.3710 - val_acc: 0.8388\n",
            "Epoch 35/50\n",
            "179/179 [==============================] - 303s 2s/step - loss: 0.1624 - acc: 0.9916 - val_loss: 0.3666 - val_acc: 0.8388\n",
            "Epoch 36/50\n",
            "179/179 [==============================] - 303s 2s/step - loss: 0.1483 - acc: 0.9944 - val_loss: 0.3605 - val_acc: 0.8430\n",
            "Epoch 37/50\n",
            "179/179 [==============================] - 303s 2s/step - loss: 0.1360 - acc: 0.9944 - val_loss: 0.3490 - val_acc: 0.8554\n",
            "Epoch 38/50\n",
            "179/179 [==============================] - 303s 2s/step - loss: 0.1231 - acc: 0.9944 - val_loss: 0.3422 - val_acc: 0.8636\n",
            "Epoch 39/50\n",
            "179/179 [==============================] - 303s 2s/step - loss: 0.1133 - acc: 0.9972 - val_loss: 0.3405 - val_acc: 0.8636\n",
            "Epoch 40/50\n",
            "179/179 [==============================] - 304s 2s/step - loss: 0.1007 - acc: 0.9972 - val_loss: 0.3345 - val_acc: 0.8554\n",
            "Epoch 41/50\n",
            "179/179 [==============================] - 304s 2s/step - loss: 0.0933 - acc: 1.0000 - val_loss: 0.3300 - val_acc: 0.8636\n",
            "Epoch 42/50\n",
            "179/179 [==============================] - 304s 2s/step - loss: 0.0842 - acc: 1.0000 - val_loss: 0.3259 - val_acc: 0.8678\n",
            "Epoch 43/50\n",
            "179/179 [==============================] - 304s 2s/step - loss: 0.0760 - acc: 1.0000 - val_loss: 0.3262 - val_acc: 0.8678\n",
            "Epoch 44/50\n",
            "179/179 [==============================] - 304s 2s/step - loss: 0.0687 - acc: 1.0000 - val_loss: 0.3216 - val_acc: 0.8595\n",
            "Epoch 45/50\n",
            "179/179 [==============================] - 304s 2s/step - loss: 0.0629 - acc: 1.0000 - val_loss: 0.3194 - val_acc: 0.8719\n",
            "Epoch 46/50\n",
            "179/179 [==============================] - 304s 2s/step - loss: 0.0579 - acc: 1.0000 - val_loss: 0.3165 - val_acc: 0.8636\n",
            "Epoch 47/50\n",
            "179/179 [==============================] - 304s 2s/step - loss: 0.0518 - acc: 1.0000 - val_loss: 0.3155 - val_acc: 0.8719\n",
            "Epoch 48/50\n",
            "179/179 [==============================] - 304s 2s/step - loss: 0.0483 - acc: 1.0000 - val_loss: 0.3161 - val_acc: 0.8760\n",
            "Epoch 49/50\n",
            "179/179 [==============================] - 304s 2s/step - loss: 0.0442 - acc: 1.0000 - val_loss: 0.3136 - val_acc: 0.8760\n",
            "Epoch 50/50\n",
            "179/179 [==============================] - 304s 2s/step - loss: 0.0404 - acc: 1.0000 - val_loss: 0.3133 - val_acc: 0.8802\n"
          ],
          "name": "stdout"
        }
      ]
    },
    {
      "cell_type": "code",
      "metadata": {
        "id": "yEzpO-MnJZJ-",
        "colab_type": "code",
        "colab": {
          "base_uri": "https://localhost:8080/",
          "height": 545
        },
        "outputId": "81bc05d8-9462-4e52-dc77-9548065356c7"
      },
      "source": [
        "acc = history.history['acc']\n",
        "val_acc = history.history['val_acc']\n",
        "loss = history.history['loss']\n",
        "val_loss = history.history['val_loss']\n",
        " \n",
        "epochs = range(len(acc))\n",
        " \n",
        "plt.plot(epochs, acc, 'b', label='Training acc')\n",
        "plt.plot(epochs, val_acc, 'r', label='Validation acc')\n",
        "plt.title('Training and validation accuracy')\n",
        "plt.legend()\n",
        " \n",
        "plt.figure()\n",
        " \n",
        "plt.plot(epochs, loss, 'b', label='Training loss')\n",
        "plt.plot(epochs, val_loss, 'r', label='Validation loss')\n",
        "plt.title('Training and validation loss')\n",
        "plt.legend()\n",
        " \n",
        "plt.show()"
      ],
      "execution_count": 18,
      "outputs": [
        {
          "output_type": "display_data",
          "data": {
            "image/png": "[encoded data removed]",
            "text/plain": [
              "<Figure size 432x288 with 1 Axes>"
            ]
          },
          "metadata": {
            "tags": []
          }
        },
        {
          "output_type": "display_data",
          "data": {
            "image/png": "[encoded data removed]",
            "text/plain": [
              "<Figure size 432x288 with 1 Axes>"
            ]
          },
          "metadata": {
            "tags": []
          }
        }
      ]
    },
    {
      "cell_type": "code",
      "metadata": {
        "id": "SxuxrPsTH-VE",
        "colab_type": "code",
        "colab": {}
      },
      "source": [
        ""
      ],
      "execution_count": 0,
      "outputs": []
    }
  ]
}